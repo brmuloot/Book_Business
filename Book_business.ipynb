{
 "cells": [
  {
   "cell_type": "markdown",
   "id": "9933c04d",
   "metadata": {},
   "source": [
    "# Brief Book Business\n",
    "## Mulot Brice\n",
    "\n",
    "Importation des librairies :"
   ]
  },
  {
   "cell_type": "code",
   "execution_count": 588,
   "id": "ce1b6ba7",
   "metadata": {},
   "outputs": [],
   "source": [
    "import pandas as pd\n",
    "import numpy as np\n",
    "import seaborn as sns\n",
    "import plotnine as p9\n",
    "from matplotlib import pyplot as plt"
   ]
  },
  {
   "cell_type": "markdown",
   "id": "b846d982",
   "metadata": {},
   "source": [
    "Importation des jeux de données :"
   ]
  },
  {
   "cell_type": "code",
   "execution_count": 530,
   "id": "e0ba3588",
   "metadata": {},
   "outputs": [],
   "source": [
    "clients = pd.read_csv(\"clients.csv\")\n",
    "produits = pd.read_csv(\"produits.csv\")\n",
    "ventes = pd.read_csv(\"ventes.csv\")"
   ]
  },
  {
   "cell_type": "code",
   "execution_count": 531,
   "id": "8a3653ae",
   "metadata": {},
   "outputs": [
    {
     "data": {
      "text/html": [
       "<div>\n",
       "<style scoped>\n",
       "    .dataframe tbody tr th:only-of-type {\n",
       "        vertical-align: middle;\n",
       "    }\n",
       "\n",
       "    .dataframe tbody tr th {\n",
       "        vertical-align: top;\n",
       "    }\n",
       "\n",
       "    .dataframe thead th {\n",
       "        text-align: right;\n",
       "    }\n",
       "</style>\n",
       "<table border=\"1\" class=\"dataframe\">\n",
       "  <thead>\n",
       "    <tr style=\"text-align: right;\">\n",
       "      <th></th>\n",
       "      <th>client_id</th>\n",
       "      <th>sex</th>\n",
       "      <th>birth</th>\n",
       "    </tr>\n",
       "  </thead>\n",
       "  <tbody>\n",
       "    <tr>\n",
       "      <th>0</th>\n",
       "      <td>c_4410</td>\n",
       "      <td>f</td>\n",
       "      <td>1967</td>\n",
       "    </tr>\n",
       "    <tr>\n",
       "      <th>1</th>\n",
       "      <td>c_7839</td>\n",
       "      <td>f</td>\n",
       "      <td>1975</td>\n",
       "    </tr>\n",
       "    <tr>\n",
       "      <th>2</th>\n",
       "      <td>c_1699</td>\n",
       "      <td>f</td>\n",
       "      <td>1984</td>\n",
       "    </tr>\n",
       "    <tr>\n",
       "      <th>3</th>\n",
       "      <td>c_5961</td>\n",
       "      <td>f</td>\n",
       "      <td>1962</td>\n",
       "    </tr>\n",
       "    <tr>\n",
       "      <th>4</th>\n",
       "      <td>c_5320</td>\n",
       "      <td>m</td>\n",
       "      <td>1943</td>\n",
       "    </tr>\n",
       "  </tbody>\n",
       "</table>\n",
       "</div>"
      ],
      "text/plain": [
       "  client_id sex  birth\n",
       "0    c_4410   f   1967\n",
       "1    c_7839   f   1975\n",
       "2    c_1699   f   1984\n",
       "3    c_5961   f   1962\n",
       "4    c_5320   m   1943"
      ]
     },
     "execution_count": 531,
     "metadata": {},
     "output_type": "execute_result"
    }
   ],
   "source": [
    "clients.head()"
   ]
  },
  {
   "cell_type": "code",
   "execution_count": 532,
   "id": "1ce858fb",
   "metadata": {},
   "outputs": [
    {
     "data": {
      "text/html": [
       "<div>\n",
       "<style scoped>\n",
       "    .dataframe tbody tr th:only-of-type {\n",
       "        vertical-align: middle;\n",
       "    }\n",
       "\n",
       "    .dataframe tbody tr th {\n",
       "        vertical-align: top;\n",
       "    }\n",
       "\n",
       "    .dataframe thead th {\n",
       "        text-align: right;\n",
       "    }\n",
       "</style>\n",
       "<table border=\"1\" class=\"dataframe\">\n",
       "  <thead>\n",
       "    <tr style=\"text-align: right;\">\n",
       "      <th></th>\n",
       "      <th>id_prod</th>\n",
       "      <th>price</th>\n",
       "      <th>categ</th>\n",
       "    </tr>\n",
       "  </thead>\n",
       "  <tbody>\n",
       "    <tr>\n",
       "      <th>0</th>\n",
       "      <td>0_1421</td>\n",
       "      <td>19.99</td>\n",
       "      <td>0</td>\n",
       "    </tr>\n",
       "    <tr>\n",
       "      <th>1</th>\n",
       "      <td>0_1368</td>\n",
       "      <td>5.13</td>\n",
       "      <td>0</td>\n",
       "    </tr>\n",
       "    <tr>\n",
       "      <th>2</th>\n",
       "      <td>0_731</td>\n",
       "      <td>17.99</td>\n",
       "      <td>0</td>\n",
       "    </tr>\n",
       "    <tr>\n",
       "      <th>3</th>\n",
       "      <td>1_587</td>\n",
       "      <td>4.99</td>\n",
       "      <td>1</td>\n",
       "    </tr>\n",
       "    <tr>\n",
       "      <th>4</th>\n",
       "      <td>0_1507</td>\n",
       "      <td>3.99</td>\n",
       "      <td>0</td>\n",
       "    </tr>\n",
       "  </tbody>\n",
       "</table>\n",
       "</div>"
      ],
      "text/plain": [
       "  id_prod  price  categ\n",
       "0  0_1421  19.99      0\n",
       "1  0_1368   5.13      0\n",
       "2   0_731  17.99      0\n",
       "3   1_587   4.99      1\n",
       "4  0_1507   3.99      0"
      ]
     },
     "execution_count": 532,
     "metadata": {},
     "output_type": "execute_result"
    }
   ],
   "source": [
    "produits.head()"
   ]
  },
  {
   "cell_type": "code",
   "execution_count": 533,
   "id": "9d5116db",
   "metadata": {},
   "outputs": [
    {
     "data": {
      "text/html": [
       "<div>\n",
       "<style scoped>\n",
       "    .dataframe tbody tr th:only-of-type {\n",
       "        vertical-align: middle;\n",
       "    }\n",
       "\n",
       "    .dataframe tbody tr th {\n",
       "        vertical-align: top;\n",
       "    }\n",
       "\n",
       "    .dataframe thead th {\n",
       "        text-align: right;\n",
       "    }\n",
       "</style>\n",
       "<table border=\"1\" class=\"dataframe\">\n",
       "  <thead>\n",
       "    <tr style=\"text-align: right;\">\n",
       "      <th></th>\n",
       "      <th>id_prod</th>\n",
       "      <th>date</th>\n",
       "      <th>session_id</th>\n",
       "      <th>client_id</th>\n",
       "    </tr>\n",
       "  </thead>\n",
       "  <tbody>\n",
       "    <tr>\n",
       "      <th>0</th>\n",
       "      <td>0_1483</td>\n",
       "      <td>2021-04-10 18:37:28.723910</td>\n",
       "      <td>s_18746</td>\n",
       "      <td>c_4450</td>\n",
       "    </tr>\n",
       "    <tr>\n",
       "      <th>1</th>\n",
       "      <td>2_226</td>\n",
       "      <td>2022-02-03 01:55:53.276402</td>\n",
       "      <td>s_159142</td>\n",
       "      <td>c_277</td>\n",
       "    </tr>\n",
       "    <tr>\n",
       "      <th>2</th>\n",
       "      <td>1_374</td>\n",
       "      <td>2021-09-23 15:13:46.938559</td>\n",
       "      <td>s_94290</td>\n",
       "      <td>c_4270</td>\n",
       "    </tr>\n",
       "    <tr>\n",
       "      <th>3</th>\n",
       "      <td>0_2186</td>\n",
       "      <td>2021-10-17 03:27:18.783634</td>\n",
       "      <td>s_105936</td>\n",
       "      <td>c_4597</td>\n",
       "    </tr>\n",
       "    <tr>\n",
       "      <th>4</th>\n",
       "      <td>0_1351</td>\n",
       "      <td>2021-07-17 20:34:25.800563</td>\n",
       "      <td>s_63642</td>\n",
       "      <td>c_1242</td>\n",
       "    </tr>\n",
       "  </tbody>\n",
       "</table>\n",
       "</div>"
      ],
      "text/plain": [
       "  id_prod                        date session_id client_id\n",
       "0  0_1483  2021-04-10 18:37:28.723910    s_18746    c_4450\n",
       "1   2_226  2022-02-03 01:55:53.276402   s_159142     c_277\n",
       "2   1_374  2021-09-23 15:13:46.938559    s_94290    c_4270\n",
       "3  0_2186  2021-10-17 03:27:18.783634   s_105936    c_4597\n",
       "4  0_1351  2021-07-17 20:34:25.800563    s_63642    c_1242"
      ]
     },
     "execution_count": 533,
     "metadata": {},
     "output_type": "execute_result"
    }
   ],
   "source": [
    "ventes.head()"
   ]
  },
  {
   "cell_type": "markdown",
   "id": "6e93c1fb",
   "metadata": {},
   "source": [
    "## 1. Trie des données, traitement des valeurs aberrantes et manquantes."
   ]
  },
  {
   "cell_type": "markdown",
   "id": "08460566",
   "metadata": {},
   "source": [
    "### 1.1. On regarde si il y a des valeurs manquantes :"
   ]
  },
  {
   "cell_type": "code",
   "execution_count": 534,
   "id": "76ff87c1",
   "metadata": {},
   "outputs": [
    {
     "name": "stdout",
     "output_type": "stream",
     "text": [
      "<class 'pandas.core.frame.DataFrame'>\n",
      "RangeIndex: 8623 entries, 0 to 8622\n",
      "Data columns (total 3 columns):\n",
      " #   Column     Non-Null Count  Dtype \n",
      "---  ------     --------------  ----- \n",
      " 0   client_id  8623 non-null   object\n",
      " 1   sex        8623 non-null   object\n",
      " 2   birth      8623 non-null   int64 \n",
      "dtypes: int64(1), object(2)\n",
      "memory usage: 202.2+ KB\n"
     ]
    },
    {
     "data": {
      "text/plain": [
       "client_id    0\n",
       "sex          0\n",
       "birth        0\n",
       "dtype: int64"
      ]
     },
     "execution_count": 534,
     "metadata": {},
     "output_type": "execute_result"
    }
   ],
   "source": [
    "clients.info()\n",
    "clients.isnull().sum().sort_values(ascending=False)"
   ]
  },
  {
   "cell_type": "code",
   "execution_count": 535,
   "id": "912507bb",
   "metadata": {},
   "outputs": [
    {
     "name": "stdout",
     "output_type": "stream",
     "text": [
      "<class 'pandas.core.frame.DataFrame'>\n",
      "RangeIndex: 3287 entries, 0 to 3286\n",
      "Data columns (total 3 columns):\n",
      " #   Column   Non-Null Count  Dtype  \n",
      "---  ------   --------------  -----  \n",
      " 0   id_prod  3287 non-null   object \n",
      " 1   price    3287 non-null   float64\n",
      " 2   categ    3287 non-null   int64  \n",
      "dtypes: float64(1), int64(1), object(1)\n",
      "memory usage: 77.2+ KB\n"
     ]
    },
    {
     "data": {
      "text/plain": [
       "id_prod    0\n",
       "price      0\n",
       "categ      0\n",
       "dtype: int64"
      ]
     },
     "execution_count": 535,
     "metadata": {},
     "output_type": "execute_result"
    }
   ],
   "source": [
    "produits.info()\n",
    "produits.isnull().sum().sort_values(ascending=False)"
   ]
  },
  {
   "cell_type": "code",
   "execution_count": 536,
   "id": "87a934f2",
   "metadata": {
    "scrolled": true
   },
   "outputs": [
    {
     "name": "stdout",
     "output_type": "stream",
     "text": [
      "<class 'pandas.core.frame.DataFrame'>\n",
      "RangeIndex: 337016 entries, 0 to 337015\n",
      "Data columns (total 4 columns):\n",
      " #   Column      Non-Null Count   Dtype \n",
      "---  ------      --------------   ----- \n",
      " 0   id_prod     337016 non-null  object\n",
      " 1   date        337016 non-null  object\n",
      " 2   session_id  337016 non-null  object\n",
      " 3   client_id   337016 non-null  object\n",
      "dtypes: object(4)\n",
      "memory usage: 10.3+ MB\n"
     ]
    },
    {
     "data": {
      "text/plain": [
       "id_prod       0\n",
       "date          0\n",
       "session_id    0\n",
       "client_id     0\n",
       "dtype: int64"
      ]
     },
     "execution_count": 536,
     "metadata": {},
     "output_type": "execute_result"
    }
   ],
   "source": [
    "ventes.info()\n",
    "ventes.isnull().sum().sort_values(ascending=False)"
   ]
  },
  {
   "cell_type": "markdown",
   "id": "81d5f3cf",
   "metadata": {},
   "source": [
    "On voit donc qu'il n'y a aucune valeure manquante dans nos 3 dataframes."
   ]
  },
  {
   "cell_type": "markdown",
   "id": "4245213a",
   "metadata": {},
   "source": [
    "### 1.2. Suppression des doublons"
   ]
  },
  {
   "cell_type": "markdown",
   "id": "c388a191",
   "metadata": {},
   "source": [
    "On voit grâce à la fonction info qu'il n'y a aucune valeure null de présentes dans les 3 dataframes, donc aucune valeure manquante"
   ]
  },
  {
   "cell_type": "code",
   "execution_count": 537,
   "id": "2cbe757a",
   "metadata": {},
   "outputs": [
    {
     "name": "stdout",
     "output_type": "stream",
     "text": [
      "Taille de la dataframe avant suppression des doublons : 8623\n",
      "Taille de la dataframe après suppresion des doublons : 8623\n",
      "Il y a donc eu 0 doublon(s)\n"
     ]
    }
   ],
   "source": [
    "clients = pd.read_csv(\"clients.csv\")\n",
    "\n",
    "avant = len(clients)\n",
    "print(\"Taille de la dataframe avant suppression des doublons :\",avant)\n",
    "\n",
    "clients = clients.drop_duplicates()\n",
    "\n",
    "apres = len(clients)\n",
    "print(\"Taille de la dataframe après suppresion des doublons :\",apres)\n",
    "print(\"Il y a donc eu\", avant - apres, \"doublon(s)\")"
   ]
  },
  {
   "cell_type": "code",
   "execution_count": 538,
   "id": "09f530c3",
   "metadata": {},
   "outputs": [
    {
     "name": "stdout",
     "output_type": "stream",
     "text": [
      "Taille de la dataframe avant suppression des doublons : 3287\n",
      "Taille de la dataframe après suppresion des doublons : 3287\n",
      "Il y a donc eu 0 doublon(s)\n"
     ]
    }
   ],
   "source": [
    "produits = pd.read_csv(\"produits.csv\")\n",
    "\n",
    "avant = len(produits)\n",
    "print(\"Taille de la dataframe avant suppression des doublons :\",avant)\n",
    "\n",
    "produits = produits.drop_duplicates()\n",
    "\n",
    "apres = len(produits)\n",
    "print(\"Taille de la dataframe après suppresion des doublons :\",apres)\n",
    "print(\"Il y a donc eu\", avant - apres, \"doublon(s)\")"
   ]
  },
  {
   "cell_type": "code",
   "execution_count": 539,
   "id": "104200ac",
   "metadata": {},
   "outputs": [
    {
     "name": "stdout",
     "output_type": "stream",
     "text": [
      "Taille de la dataframe avant suppression des doublons : 337016\n",
      "Taille de la dataframe après suppresion des doublons : 336890\n",
      "Il y a donc eu 126 doublon(s)\n"
     ]
    }
   ],
   "source": [
    "ventes = pd.read_csv(\"ventes.csv\")\n",
    "\n",
    "avant = len(ventes)\n",
    "print(\"Taille de la dataframe avant suppression des doublons :\",avant)\n",
    "\n",
    "ventes.drop_duplicates(inplace = True)\n",
    "\n",
    "apres = len(ventes)\n",
    "print(\"Taille de la dataframe après suppresion des doublons :\",apres)\n",
    "print(\"Il y a donc eu\", avant - apres, \"doublon(s)\")\n",
    "df = pd.merge(ventes, produits)\n",
    "df = pd.merge(df, clients)"
   ]
  },
  {
   "cell_type": "markdown",
   "id": "4b859e69",
   "metadata": {},
   "source": [
    "### 1.3. Les outliers ou valeures abérrantes"
   ]
  },
  {
   "cell_type": "code",
   "execution_count": 540,
   "id": "09b2de89",
   "metadata": {},
   "outputs": [
    {
     "data": {
      "text/plain": [
       "4569    1929\n",
       "2491    1929\n",
       "418     1929\n",
       "1086    1930\n",
       "5138    1930\n",
       "        ... \n",
       "7949    2004\n",
       "1130    2004\n",
       "5433    2004\n",
       "5642    2004\n",
       "7530    2004\n",
       "Name: birth, Length: 8623, dtype: int64"
      ]
     },
     "execution_count": 540,
     "metadata": {},
     "output_type": "execute_result"
    },
    {
     "data": {
      "image/png": "[encoded data removed]",
      "text/plain": [
       "<Figure size 432x288 with 1 Axes>"
      ]
     },
     "metadata": {
      "needs_background": "light"
     },
     "output_type": "display_data"
    }
   ],
   "source": [
    "clients[[\"birth\"]].boxplot()\n",
    "clients.birth.sort_values()"
   ]
  },
  {
   "cell_type": "markdown",
   "id": "55920516",
   "metadata": {},
   "source": [
    "Il ne semble pas y avoir de valeure abérrante "
   ]
  },
  {
   "cell_type": "markdown",
   "id": "1af1a7ac",
   "metadata": {},
   "source": [
    "Pour la colonne des sex on va plutôt vérifier que l'on ai bien uniquement des hommes et des femmes donc \"f\" et \"m\" grâce à la fonction unique."
   ]
  },
  {
   "cell_type": "code",
   "execution_count": 541,
   "id": "7db467e2",
   "metadata": {},
   "outputs": [
    {
     "data": {
      "text/plain": [
       "array(['f', 'm'], dtype=object)"
      ]
     },
     "execution_count": 541,
     "metadata": {},
     "output_type": "execute_result"
    }
   ],
   "source": [
    "clients.sex.unique()"
   ]
  },
  {
   "cell_type": "code",
   "execution_count": 542,
   "id": "fc72dd8a",
   "metadata": {},
   "outputs": [
    {
     "data": {
      "text/plain": [
       "731      -1.00\n",
       "2355      0.62\n",
       "2272      0.62\n",
       "370       0.66\n",
       "1211      0.77\n",
       "         ...  \n",
       "2779    233.54\n",
       "1436    236.99\n",
       "394     247.22\n",
       "724     254.44\n",
       "947     300.00\n",
       "Name: price, Length: 3287, dtype: float64"
      ]
     },
     "execution_count": 542,
     "metadata": {},
     "output_type": "execute_result"
    },
    {
     "data": {
      "image/png": "[encoded data removed]",
      "text/plain": [
       "<Figure size 432x288 with 1 Axes>"
      ]
     },
     "metadata": {
      "needs_background": "light"
     },
     "output_type": "display_data"
    }
   ],
   "source": [
    "produits[[\"price\"]].boxplot()\n",
    "produits.price.sort_values()"
   ]
  },
  {
   "cell_type": "markdown",
   "id": "5562b254",
   "metadata": {},
   "source": [
    "Il semble que le prix d'un produit ne peux pas être négative il va donc falloir corriger cela. De plus nous voyons beaucoup de valeurs superieur à notre boxplot, nous allons donc devoir les regarder et voir si leur prix est normal ou non.\n",
    "Etant donnée que nous somme dans une librairie il semble étrange qu'un livre coûte plus de 50 euros."
   ]
  },
  {
   "cell_type": "code",
   "execution_count": 543,
   "id": "206aecb8",
   "metadata": {},
   "outputs": [
    {
     "name": "stdout",
     "output_type": "stream",
     "text": [
      "     id_prod   price  categ\n",
      "3099    2_33   30.99      2\n",
      "390     2_45   32.99      2\n",
      "3095    2_67   32.99      2\n",
      "770    2_107   33.99      2\n",
      "1717   2_152   34.23      2\n",
      "...      ...     ...    ...\n",
      "2779    2_30  233.54      2\n",
      "1436   2_167  236.99      2\n",
      "394    2_158  247.22      2\n",
      "724     2_76  254.44      2\n",
      "947      2_2  300.00      2\n",
      "\n",
      "[239 rows x 3 columns]\n",
      "     id_prod  price  categ\n",
      "3243   1_238   2.00      1\n",
      "2853   1_332   2.24      1\n",
      "2496    1_36   2.64      1\n",
      "2366    1_58   2.95      1\n",
      "1278   1_473   2.99      1\n",
      "...      ...    ...    ...\n",
      "2962   1_608  72.75      1\n",
      "2827   1_171  73.99      1\n",
      "808     1_10  78.83      1\n",
      "879    1_679  79.99      1\n",
      "824     1_13  80.99      1\n",
      "\n",
      "[739 rows x 3 columns]\n",
      "     id_prod  price  categ\n",
      "731      T_0  -1.00      0\n",
      "2272   0_528   0.62      0\n",
      "2355   0_202   0.62      0\n",
      "370    0_120   0.66      0\n",
      "1211  0_1844   0.77      0\n",
      "...      ...    ...    ...\n",
      "569    0_197  37.99      0\n",
      "2663  0_1581  37.99      0\n",
      "1360   0_494  39.58      0\n",
      "2809  0_2147  39.99      0\n",
      "47    0_1629  40.99      0\n",
      "\n",
      "[2309 rows x 3 columns]\n"
     ]
    }
   ],
   "source": [
    "print(produits[produits.categ == 2].sort_values(by = \"price\"))\n",
    "print(produits[produits.categ == 1].sort_values(by = \"price\"))\n",
    "print(produits[produits.categ == 0].sort_values(by = \"price\"))"
   ]
  },
  {
   "cell_type": "markdown",
   "id": "8d69fef0",
   "metadata": {},
   "source": [
    "Les valeurs des prix ont l'air de correspondres avec leur catégorie donc nous allons les laissé."
   ]
  },
  {
   "cell_type": "code",
   "execution_count": 544,
   "id": "709fccd1",
   "metadata": {},
   "outputs": [
    {
     "data": {
      "text/plain": [
       "<AxesSubplot:>"
      ]
     },
     "execution_count": 544,
     "metadata": {},
     "output_type": "execute_result"
    },
    {
     "data": {
      "image/png": "[encoded data removed]",
      "text/plain": [
       "<Figure size 432x288 with 1 Axes>"
      ]
     },
     "metadata": {
      "needs_background": "light"
     },
     "output_type": "display_data"
    }
   ],
   "source": [
    "produits[produits.categ == 2].sort_values(by = \"price\").boxplot()"
   ]
  },
  {
   "cell_type": "code",
   "execution_count": 545,
   "id": "00a874bb",
   "metadata": {},
   "outputs": [
    {
     "data": {
      "text/plain": [
       "<AxesSubplot:>"
      ]
     },
     "execution_count": 545,
     "metadata": {},
     "output_type": "execute_result"
    },
    {
     "data": {
      "image/png": "[encoded data removed]",
      "text/plain": [
       "<Figure size 432x288 with 1 Axes>"
      ]
     },
     "metadata": {
      "needs_background": "light"
     },
     "output_type": "display_data"
    }
   ],
   "source": [
    "produits[produits.categ == 1].sort_values(by = \"price\").boxplot()\n"
   ]
  },
  {
   "cell_type": "code",
   "execution_count": 546,
   "id": "9bd3fa9d",
   "metadata": {},
   "outputs": [
    {
     "data": {
      "text/plain": [
       "<AxesSubplot:>"
      ]
     },
     "execution_count": 546,
     "metadata": {},
     "output_type": "execute_result"
    },
    {
     "data": {
      "image/png": "[encoded data removed]",
      "text/plain": [
       "<Figure size 432x288 with 1 Axes>"
      ]
     },
     "metadata": {
      "needs_background": "light"
     },
     "output_type": "display_data"
    }
   ],
   "source": [
    "produits[produits.categ == 0].sort_values(by = \"price\").boxplot()"
   ]
  },
  {
   "cell_type": "markdown",
   "id": "0ed8f204",
   "metadata": {},
   "source": []
  },
  {
   "cell_type": "code",
   "execution_count": 547,
   "id": "2d5a8977",
   "metadata": {},
   "outputs": [
    {
     "data": {
      "text/plain": [
       "<AxesSubplot:>"
      ]
     },
     "execution_count": 547,
     "metadata": {},
     "output_type": "execute_result"
    },
    {
     "data": {
      "image/png": "[encoded data removed]",
      "text/plain": [
       "<Figure size 432x288 with 1 Axes>"
      ]
     },
     "metadata": {
      "needs_background": "light"
     },
     "output_type": "display_data"
    }
   ],
   "source": [
    "false_observation = produits.price.argmin()\n",
    "produits = produits.drop(false_observation).reset_index(drop=True)\n",
    "produits[[\"price\"]].boxplot()"
   ]
  },
  {
   "cell_type": "code",
   "execution_count": 548,
   "id": "6e6b6953",
   "metadata": {},
   "outputs": [
    {
     "data": {
      "text/plain": [
       "<AxesSubplot:>"
      ]
     },
     "execution_count": 548,
     "metadata": {},
     "output_type": "execute_result"
    },
    {
     "data": {
      "image/png": "[encoded data removed]",
      "text/plain": [
       "<Figure size 432x288 with 1 Axes>"
      ]
     },
     "metadata": {
      "needs_background": "light"
     },
     "output_type": "display_data"
    }
   ],
   "source": [
    "produits[[\"categ\"]].boxplot()"
   ]
  },
  {
   "cell_type": "code",
   "execution_count": 549,
   "id": "c9692f0a",
   "metadata": {},
   "outputs": [
    {
     "data": {
      "text/plain": [
       "0    2308\n",
       "1     739\n",
       "2     239\n",
       "Name: categ, dtype: int64"
      ]
     },
     "execution_count": 549,
     "metadata": {},
     "output_type": "execute_result"
    }
   ],
   "source": [
    "produits.categ.value_counts()"
   ]
  },
  {
   "cell_type": "code",
   "execution_count": 550,
   "id": "e0955778",
   "metadata": {},
   "outputs": [
    {
     "data": {
      "text/html": [
       "<div>\n",
       "<style scoped>\n",
       "    .dataframe tbody tr th:only-of-type {\n",
       "        vertical-align: middle;\n",
       "    }\n",
       "\n",
       "    .dataframe tbody tr th {\n",
       "        vertical-align: top;\n",
       "    }\n",
       "\n",
       "    .dataframe thead th {\n",
       "        text-align: right;\n",
       "    }\n",
       "</style>\n",
       "<table border=\"1\" class=\"dataframe\">\n",
       "  <thead>\n",
       "    <tr style=\"text-align: right;\">\n",
       "      <th></th>\n",
       "      <th>date</th>\n",
       "    </tr>\n",
       "  </thead>\n",
       "  <tbody>\n",
       "    <tr>\n",
       "      <th>176588</th>\n",
       "      <td>2021-03-01 00:01:07.843138</td>\n",
       "    </tr>\n",
       "    <tr>\n",
       "      <th>95285</th>\n",
       "      <td>2021-03-01 00:02:26.047414</td>\n",
       "    </tr>\n",
       "    <tr>\n",
       "      <th>216737</th>\n",
       "      <td>2021-03-01 00:02:38.311413</td>\n",
       "    </tr>\n",
       "    <tr>\n",
       "      <th>180767</th>\n",
       "      <td>2021-03-01 00:04:54.559692</td>\n",
       "    </tr>\n",
       "    <tr>\n",
       "      <th>293481</th>\n",
       "      <td>2021-03-01 00:05:18.801198</td>\n",
       "    </tr>\n",
       "    <tr>\n",
       "      <th>...</th>\n",
       "      <td>...</td>\n",
       "    </tr>\n",
       "    <tr>\n",
       "      <th>26814</th>\n",
       "      <td>test_2021-03-01 02:30:02.237447</td>\n",
       "    </tr>\n",
       "    <tr>\n",
       "      <th>317345</th>\n",
       "      <td>test_2021-03-01 02:30:02.237448</td>\n",
       "    </tr>\n",
       "    <tr>\n",
       "      <th>203239</th>\n",
       "      <td>test_2021-03-01 02:30:02.237449</td>\n",
       "    </tr>\n",
       "    <tr>\n",
       "      <th>245346</th>\n",
       "      <td>test_2021-03-01 02:30:02.237449</td>\n",
       "    </tr>\n",
       "    <tr>\n",
       "      <th>38779</th>\n",
       "      <td>test_2021-03-01 02:30:02.237450</td>\n",
       "    </tr>\n",
       "  </tbody>\n",
       "</table>\n",
       "<p>336890 rows × 1 columns</p>\n",
       "</div>"
      ],
      "text/plain": [
       "                                   date\n",
       "176588       2021-03-01 00:01:07.843138\n",
       "95285        2021-03-01 00:02:26.047414\n",
       "216737       2021-03-01 00:02:38.311413\n",
       "180767       2021-03-01 00:04:54.559692\n",
       "293481       2021-03-01 00:05:18.801198\n",
       "...                                 ...\n",
       "26814   test_2021-03-01 02:30:02.237447\n",
       "317345  test_2021-03-01 02:30:02.237448\n",
       "203239  test_2021-03-01 02:30:02.237449\n",
       "245346  test_2021-03-01 02:30:02.237449\n",
       "38779   test_2021-03-01 02:30:02.237450\n",
       "\n",
       "[336890 rows x 1 columns]"
      ]
     },
     "execution_count": 550,
     "metadata": {},
     "output_type": "execute_result"
    }
   ],
   "source": [
    "ventes[[\"date\"]].sort_values(by=\"date\")"
   ]
  },
  {
   "cell_type": "markdown",
   "id": "1ce4c90b",
   "metadata": {},
   "source": [
    "On voit que l'on possède des dates qui contiennent \"test_\" devant leur année il va donc falloir les regardé, on ce rend compte que l'id associé est celle correspondant à un prix de -1 donc on peut fusionner nos dataframes et ces données seront supprimé."
   ]
  },
  {
   "cell_type": "markdown",
   "id": "22903bd8",
   "metadata": {},
   "source": [
    "Avant de merge les tables on vérifie que les id des tables soit bien des clés primaires."
   ]
  },
  {
   "cell_type": "code",
   "execution_count": 551,
   "id": "b7269b38",
   "metadata": {},
   "outputs": [
    {
     "name": "stdout",
     "output_type": "stream",
     "text": [
      "La clé n'est pas présente plusieurs fois dans le dataframe.\n",
      "Elle peut donc être utilisée comme clé primaire.\n",
      "Le dataframe est de la forme : (8623, 3) (lignes, colonnes) \n",
      "\n",
      "La clé n'est pas présente plusieurs fois dans le dataframe.\n",
      "Elle peut donc être utilisée comme clé primaire.\n",
      "Le dataframe est de la forme : (3286, 3) (lignes, colonnes) \n",
      "\n"
     ]
    }
   ],
   "source": [
    "def testerCle(df, colonnes):\n",
    "    \"\"\"Fonction qui prend en arguments un dataframe et les colonnes qui composent la clé primaire à tester.\"\"\"\n",
    "\n",
    "    # On compare la taille du dataframe avant et après dédoublonnage \n",
    "    if df.size == df.drop_duplicates(colonnes).size :\n",
    "        print(\"La clé n'est pas présente plusieurs fois dans le dataframe.\")\n",
    "        print(\"Elle peut donc être utilisée comme clé primaire.\".format(colonnes))\n",
    "    else :\n",
    "        print(\"La clé est présente plusieurs fois dans le dataframe.\")\n",
    "        print(\"Elle ne peut donc pas être utilisée comme clé primaire.\".format(colonnes))\n",
    "    \n",
    "    # On renvoie également le comptage\n",
    "    print(\"Le dataframe est de la forme : \" + str(df.shape) + \" (lignes, colonnes) \\n\")\n",
    "\n",
    "testerCle(clients, \"client_id\")\n",
    "testerCle(produits, \"id_prod\")"
   ]
  },
  {
   "cell_type": "code",
   "execution_count": 552,
   "id": "6d8a137d",
   "metadata": {},
   "outputs": [
    {
     "data": {
      "text/plain": [
       "s_0         74\n",
       "s_118668    14\n",
       "s_96857     13\n",
       "s_21005     13\n",
       "s_168560    12\n",
       "Name: session_id, dtype: int64"
      ]
     },
     "execution_count": 552,
     "metadata": {},
     "output_type": "execute_result"
    }
   ],
   "source": [
    "ventes.session_id.value_counts().head()"
   ]
  },
  {
   "cell_type": "markdown",
   "id": "642c80b8",
   "metadata": {},
   "source": [
    "s_0 correspond donc au produit valant -1 donc sera supprimé lors du merge tant dis que les autres sont simplement les mêmes utilisateurs qui vont achetés plusieurs livres en même temps."
   ]
  },
  {
   "cell_type": "code",
   "execution_count": 553,
   "id": "d994d4e5",
   "metadata": {},
   "outputs": [],
   "source": [
    "df = pd.merge(ventes, produits, on = \"id_prod\")\n",
    "df = pd.merge(df, clients, on= \"client_id\")"
   ]
  },
  {
   "cell_type": "code",
   "execution_count": 554,
   "id": "c1a48405",
   "metadata": {},
   "outputs": [
    {
     "data": {
      "text/plain": [
       "272025    2021-03-01 00:01:07.843138\n",
       "217451    2021-03-01 00:02:26.047414\n",
       "153736    2021-03-01 00:02:38.311413\n",
       "174376    2021-03-01 00:04:54.559692\n",
       "284426    2021-03-01 00:05:18.801198\n",
       "                     ...            \n",
       "132992    2022-02-28 23:56:57.196281\n",
       "157259    2022-02-28 23:56:57.561424\n",
       "141368    2022-02-28 23:57:12.741573\n",
       "157254    2022-02-28 23:59:02.381670\n",
       "157291    2022-02-28 23:59:58.040472\n",
       "Name: date, Length: 336713, dtype: object"
      ]
     },
     "execution_count": 554,
     "metadata": {},
     "output_type": "execute_result"
    }
   ],
   "source": [
    "df.date.sort_values()"
   ]
  },
  {
   "cell_type": "markdown",
   "id": "0e66d540",
   "metadata": {},
   "source": [
    "On voit que l'on a plus de problème avec des \"test_\" donc notre base de donnée est maintenant propre"
   ]
  },
  {
   "cell_type": "code",
   "execution_count": 555,
   "id": "2d57384f",
   "metadata": {},
   "outputs": [
    {
     "data": {
      "text/html": [
       "<div>\n",
       "<style scoped>\n",
       "    .dataframe tbody tr th:only-of-type {\n",
       "        vertical-align: middle;\n",
       "    }\n",
       "\n",
       "    .dataframe tbody tr th {\n",
       "        vertical-align: top;\n",
       "    }\n",
       "\n",
       "    .dataframe thead th {\n",
       "        text-align: right;\n",
       "    }\n",
       "</style>\n",
       "<table border=\"1\" class=\"dataframe\">\n",
       "  <thead>\n",
       "    <tr style=\"text-align: right;\">\n",
       "      <th></th>\n",
       "      <th>id_prod</th>\n",
       "      <th>date</th>\n",
       "      <th>session_id</th>\n",
       "      <th>client_id</th>\n",
       "      <th>price</th>\n",
       "      <th>categ</th>\n",
       "      <th>sex</th>\n",
       "      <th>birth</th>\n",
       "    </tr>\n",
       "  </thead>\n",
       "  <tbody>\n",
       "    <tr>\n",
       "      <th>272025</th>\n",
       "      <td>0_1259</td>\n",
       "      <td>2021-03-01 00:01:07.843138</td>\n",
       "      <td>s_1</td>\n",
       "      <td>c_329</td>\n",
       "      <td>11.99</td>\n",
       "      <td>0</td>\n",
       "      <td>f</td>\n",
       "      <td>1967</td>\n",
       "    </tr>\n",
       "    <tr>\n",
       "      <th>217451</th>\n",
       "      <td>0_1390</td>\n",
       "      <td>2021-03-01 00:02:26.047414</td>\n",
       "      <td>s_2</td>\n",
       "      <td>c_664</td>\n",
       "      <td>19.37</td>\n",
       "      <td>0</td>\n",
       "      <td>m</td>\n",
       "      <td>1960</td>\n",
       "    </tr>\n",
       "    <tr>\n",
       "      <th>153736</th>\n",
       "      <td>0_1352</td>\n",
       "      <td>2021-03-01 00:02:38.311413</td>\n",
       "      <td>s_3</td>\n",
       "      <td>c_580</td>\n",
       "      <td>4.50</td>\n",
       "      <td>0</td>\n",
       "      <td>m</td>\n",
       "      <td>1988</td>\n",
       "    </tr>\n",
       "    <tr>\n",
       "      <th>174376</th>\n",
       "      <td>0_1458</td>\n",
       "      <td>2021-03-01 00:04:54.559692</td>\n",
       "      <td>s_4</td>\n",
       "      <td>c_7912</td>\n",
       "      <td>6.55</td>\n",
       "      <td>0</td>\n",
       "      <td>f</td>\n",
       "      <td>1989</td>\n",
       "    </tr>\n",
       "    <tr>\n",
       "      <th>284426</th>\n",
       "      <td>0_1358</td>\n",
       "      <td>2021-03-01 00:05:18.801198</td>\n",
       "      <td>s_5</td>\n",
       "      <td>c_2033</td>\n",
       "      <td>16.49</td>\n",
       "      <td>0</td>\n",
       "      <td>f</td>\n",
       "      <td>1956</td>\n",
       "    </tr>\n",
       "    <tr>\n",
       "      <th>...</th>\n",
       "      <td>...</td>\n",
       "      <td>...</td>\n",
       "      <td>...</td>\n",
       "      <td>...</td>\n",
       "      <td>...</td>\n",
       "      <td>...</td>\n",
       "      <td>...</td>\n",
       "      <td>...</td>\n",
       "    </tr>\n",
       "    <tr>\n",
       "      <th>132992</th>\n",
       "      <td>1_456</td>\n",
       "      <td>2022-02-28 23:56:57.196281</td>\n",
       "      <td>s_172422</td>\n",
       "      <td>c_5787</td>\n",
       "      <td>28.27</td>\n",
       "      <td>1</td>\n",
       "      <td>f</td>\n",
       "      <td>1986</td>\n",
       "    </tr>\n",
       "    <tr>\n",
       "      <th>157259</th>\n",
       "      <td>1_370</td>\n",
       "      <td>2022-02-28 23:56:57.561424</td>\n",
       "      <td>s_172423</td>\n",
       "      <td>c_1460</td>\n",
       "      <td>13.11</td>\n",
       "      <td>1</td>\n",
       "      <td>m</td>\n",
       "      <td>1989</td>\n",
       "    </tr>\n",
       "    <tr>\n",
       "      <th>141368</th>\n",
       "      <td>0_1538</td>\n",
       "      <td>2022-02-28 23:57:12.741573</td>\n",
       "      <td>s_172424</td>\n",
       "      <td>c_1876</td>\n",
       "      <td>8.61</td>\n",
       "      <td>0</td>\n",
       "      <td>m</td>\n",
       "      <td>1983</td>\n",
       "    </tr>\n",
       "    <tr>\n",
       "      <th>157254</th>\n",
       "      <td>0_1403</td>\n",
       "      <td>2022-02-28 23:59:02.381670</td>\n",
       "      <td>s_172423</td>\n",
       "      <td>c_1460</td>\n",
       "      <td>15.99</td>\n",
       "      <td>0</td>\n",
       "      <td>m</td>\n",
       "      <td>1989</td>\n",
       "    </tr>\n",
       "    <tr>\n",
       "      <th>157291</th>\n",
       "      <td>0_1775</td>\n",
       "      <td>2022-02-28 23:59:58.040472</td>\n",
       "      <td>s_172423</td>\n",
       "      <td>c_1460</td>\n",
       "      <td>6.99</td>\n",
       "      <td>0</td>\n",
       "      <td>m</td>\n",
       "      <td>1989</td>\n",
       "    </tr>\n",
       "  </tbody>\n",
       "</table>\n",
       "<p>336713 rows × 8 columns</p>\n",
       "</div>"
      ],
      "text/plain": [
       "       id_prod                        date session_id client_id  price  categ  \\\n",
       "272025  0_1259  2021-03-01 00:01:07.843138        s_1     c_329  11.99      0   \n",
       "217451  0_1390  2021-03-01 00:02:26.047414        s_2     c_664  19.37      0   \n",
       "153736  0_1352  2021-03-01 00:02:38.311413        s_3     c_580   4.50      0   \n",
       "174376  0_1458  2021-03-01 00:04:54.559692        s_4    c_7912   6.55      0   \n",
       "284426  0_1358  2021-03-01 00:05:18.801198        s_5    c_2033  16.49      0   \n",
       "...        ...                         ...        ...       ...    ...    ...   \n",
       "132992   1_456  2022-02-28 23:56:57.196281   s_172422    c_5787  28.27      1   \n",
       "157259   1_370  2022-02-28 23:56:57.561424   s_172423    c_1460  13.11      1   \n",
       "141368  0_1538  2022-02-28 23:57:12.741573   s_172424    c_1876   8.61      0   \n",
       "157254  0_1403  2022-02-28 23:59:02.381670   s_172423    c_1460  15.99      0   \n",
       "157291  0_1775  2022-02-28 23:59:58.040472   s_172423    c_1460   6.99      0   \n",
       "\n",
       "       sex  birth  \n",
       "272025   f   1967  \n",
       "217451   m   1960  \n",
       "153736   m   1988  \n",
       "174376   f   1989  \n",
       "284426   f   1956  \n",
       "...     ..    ...  \n",
       "132992   f   1986  \n",
       "157259   m   1989  \n",
       "141368   m   1983  \n",
       "157254   m   1989  \n",
       "157291   m   1989  \n",
       "\n",
       "[336713 rows x 8 columns]"
      ]
     },
     "execution_count": 555,
     "metadata": {},
     "output_type": "execute_result"
    }
   ],
   "source": [
    "df.sort_values(by=\"date\")"
   ]
  },
  {
   "cell_type": "markdown",
   "id": "6c013472",
   "metadata": {},
   "source": [
    "## 2. Analyse des données"
   ]
  },
  {
   "cell_type": "markdown",
   "id": "482a30de",
   "metadata": {},
   "source": [
    "### 2.1. Calcul des indicateurs de tendance centrale et de dispersion"
   ]
  },
  {
   "cell_type": "markdown",
   "id": "6b6165b0",
   "metadata": {},
   "source": [
    "On va commencé par trouver les âges auquel les clients ont commandé sur le site afin de pouvoir les étudier."
   ]
  },
  {
   "cell_type": "code",
   "execution_count": 556,
   "id": "378efe81",
   "metadata": {},
   "outputs": [],
   "source": [
    "annees = []\n",
    "month = []\n",
    "day = []\n",
    "for i in range(len(df)):\n",
    "    annees.append(int(df.date[i][0:4]))\n",
    "    month.append(int(df.date[i][5:7]))\n",
    "    day.append(int(df.date[i][8:10]))\n",
    "df = df.assign(year = annees, month = month, day = day)"
   ]
  },
  {
   "cell_type": "code",
   "execution_count": 557,
   "id": "44e050e9",
   "metadata": {},
   "outputs": [
    {
     "data": {
      "text/html": [
       "<div>\n",
       "<style scoped>\n",
       "    .dataframe tbody tr th:only-of-type {\n",
       "        vertical-align: middle;\n",
       "    }\n",
       "\n",
       "    .dataframe tbody tr th {\n",
       "        vertical-align: top;\n",
       "    }\n",
       "\n",
       "    .dataframe thead th {\n",
       "        text-align: right;\n",
       "    }\n",
       "</style>\n",
       "<table border=\"1\" class=\"dataframe\">\n",
       "  <thead>\n",
       "    <tr style=\"text-align: right;\">\n",
       "      <th></th>\n",
       "      <th>id_prod</th>\n",
       "      <th>date</th>\n",
       "      <th>session_id</th>\n",
       "      <th>client_id</th>\n",
       "      <th>price</th>\n",
       "      <th>categ</th>\n",
       "      <th>sex</th>\n",
       "      <th>birth</th>\n",
       "      <th>year</th>\n",
       "      <th>month</th>\n",
       "      <th>day</th>\n",
       "    </tr>\n",
       "  </thead>\n",
       "  <tbody>\n",
       "    <tr>\n",
       "      <th>0</th>\n",
       "      <td>0_1483</td>\n",
       "      <td>2021-04-10 18:37:28.723910</td>\n",
       "      <td>s_18746</td>\n",
       "      <td>c_4450</td>\n",
       "      <td>4.99</td>\n",
       "      <td>0</td>\n",
       "      <td>f</td>\n",
       "      <td>1977</td>\n",
       "      <td>2021</td>\n",
       "      <td>4</td>\n",
       "      <td>10</td>\n",
       "    </tr>\n",
       "    <tr>\n",
       "      <th>1</th>\n",
       "      <td>0_1085</td>\n",
       "      <td>2021-09-29 11:14:59.793823</td>\n",
       "      <td>s_97382</td>\n",
       "      <td>c_4450</td>\n",
       "      <td>3.99</td>\n",
       "      <td>0</td>\n",
       "      <td>f</td>\n",
       "      <td>1977</td>\n",
       "      <td>2021</td>\n",
       "      <td>9</td>\n",
       "      <td>29</td>\n",
       "    </tr>\n",
       "    <tr>\n",
       "      <th>2</th>\n",
       "      <td>0_1453</td>\n",
       "      <td>2021-08-27 19:50:46.796939</td>\n",
       "      <td>s_81509</td>\n",
       "      <td>c_4450</td>\n",
       "      <td>7.99</td>\n",
       "      <td>0</td>\n",
       "      <td>f</td>\n",
       "      <td>1977</td>\n",
       "      <td>2021</td>\n",
       "      <td>8</td>\n",
       "      <td>27</td>\n",
       "    </tr>\n",
       "    <tr>\n",
       "      <th>3</th>\n",
       "      <td>0_1405</td>\n",
       "      <td>2021-08-27 20:07:25.878440</td>\n",
       "      <td>s_81509</td>\n",
       "      <td>c_4450</td>\n",
       "      <td>4.99</td>\n",
       "      <td>0</td>\n",
       "      <td>f</td>\n",
       "      <td>1977</td>\n",
       "      <td>2021</td>\n",
       "      <td>8</td>\n",
       "      <td>27</td>\n",
       "    </tr>\n",
       "    <tr>\n",
       "      <th>4</th>\n",
       "      <td>0_1392</td>\n",
       "      <td>2021-12-28 11:45:04.072281</td>\n",
       "      <td>s_141302</td>\n",
       "      <td>c_4450</td>\n",
       "      <td>6.30</td>\n",
       "      <td>0</td>\n",
       "      <td>f</td>\n",
       "      <td>1977</td>\n",
       "      <td>2021</td>\n",
       "      <td>12</td>\n",
       "      <td>28</td>\n",
       "    </tr>\n",
       "    <tr>\n",
       "      <th>...</th>\n",
       "      <td>...</td>\n",
       "      <td>...</td>\n",
       "      <td>...</td>\n",
       "      <td>...</td>\n",
       "      <td>...</td>\n",
       "      <td>...</td>\n",
       "      <td>...</td>\n",
       "      <td>...</td>\n",
       "      <td>...</td>\n",
       "      <td>...</td>\n",
       "      <td>...</td>\n",
       "    </tr>\n",
       "    <tr>\n",
       "      <th>336708</th>\n",
       "      <td>1_607</td>\n",
       "      <td>2021-09-25 07:26:00.224331</td>\n",
       "      <td>s_95185</td>\n",
       "      <td>c_4786</td>\n",
       "      <td>26.99</td>\n",
       "      <td>1</td>\n",
       "      <td>f</td>\n",
       "      <td>1967</td>\n",
       "      <td>2021</td>\n",
       "      <td>9</td>\n",
       "      <td>25</td>\n",
       "    </tr>\n",
       "    <tr>\n",
       "      <th>336709</th>\n",
       "      <td>1_673</td>\n",
       "      <td>2021-06-01 00:49:49.781631</td>\n",
       "      <td>s_42350</td>\n",
       "      <td>c_2793</td>\n",
       "      <td>12.99</td>\n",
       "      <td>1</td>\n",
       "      <td>m</td>\n",
       "      <td>1933</td>\n",
       "      <td>2021</td>\n",
       "      <td>6</td>\n",
       "      <td>1</td>\n",
       "    </tr>\n",
       "    <tr>\n",
       "      <th>336710</th>\n",
       "      <td>0_2075</td>\n",
       "      <td>2021-10-09 09:03:48.268536</td>\n",
       "      <td>s_102200</td>\n",
       "      <td>c_2793</td>\n",
       "      <td>8.99</td>\n",
       "      <td>0</td>\n",
       "      <td>m</td>\n",
       "      <td>1933</td>\n",
       "      <td>2021</td>\n",
       "      <td>10</td>\n",
       "      <td>9</td>\n",
       "    </tr>\n",
       "    <tr>\n",
       "      <th>336711</th>\n",
       "      <td>0_1692</td>\n",
       "      <td>2021-09-15 19:42:08.596375</td>\n",
       "      <td>s_90430</td>\n",
       "      <td>c_4478</td>\n",
       "      <td>13.36</td>\n",
       "      <td>0</td>\n",
       "      <td>f</td>\n",
       "      <td>1970</td>\n",
       "      <td>2021</td>\n",
       "      <td>9</td>\n",
       "      <td>15</td>\n",
       "    </tr>\n",
       "    <tr>\n",
       "      <th>336712</th>\n",
       "      <td>0_142</td>\n",
       "      <td>2021-09-25 18:07:25.880052</td>\n",
       "      <td>s_95415</td>\n",
       "      <td>c_1232</td>\n",
       "      <td>19.85</td>\n",
       "      <td>0</td>\n",
       "      <td>f</td>\n",
       "      <td>1960</td>\n",
       "      <td>2021</td>\n",
       "      <td>9</td>\n",
       "      <td>25</td>\n",
       "    </tr>\n",
       "  </tbody>\n",
       "</table>\n",
       "<p>336713 rows × 11 columns</p>\n",
       "</div>"
      ],
      "text/plain": [
       "       id_prod                        date session_id client_id  price  categ  \\\n",
       "0       0_1483  2021-04-10 18:37:28.723910    s_18746    c_4450   4.99      0   \n",
       "1       0_1085  2021-09-29 11:14:59.793823    s_97382    c_4450   3.99      0   \n",
       "2       0_1453  2021-08-27 19:50:46.796939    s_81509    c_4450   7.99      0   \n",
       "3       0_1405  2021-08-27 20:07:25.878440    s_81509    c_4450   4.99      0   \n",
       "4       0_1392  2021-12-28 11:45:04.072281   s_141302    c_4450   6.30      0   \n",
       "...        ...                         ...        ...       ...    ...    ...   \n",
       "336708   1_607  2021-09-25 07:26:00.224331    s_95185    c_4786  26.99      1   \n",
       "336709   1_673  2021-06-01 00:49:49.781631    s_42350    c_2793  12.99      1   \n",
       "336710  0_2075  2021-10-09 09:03:48.268536   s_102200    c_2793   8.99      0   \n",
       "336711  0_1692  2021-09-15 19:42:08.596375    s_90430    c_4478  13.36      0   \n",
       "336712   0_142  2021-09-25 18:07:25.880052    s_95415    c_1232  19.85      0   \n",
       "\n",
       "       sex  birth  year  month  day  \n",
       "0        f   1977  2021      4   10  \n",
       "1        f   1977  2021      9   29  \n",
       "2        f   1977  2021      8   27  \n",
       "3        f   1977  2021      8   27  \n",
       "4        f   1977  2021     12   28  \n",
       "...     ..    ...   ...    ...  ...  \n",
       "336708   f   1967  2021      9   25  \n",
       "336709   m   1933  2021      6    1  \n",
       "336710   m   1933  2021     10    9  \n",
       "336711   f   1970  2021      9   15  \n",
       "336712   f   1960  2021      9   25  \n",
       "\n",
       "[336713 rows x 11 columns]"
      ]
     },
     "execution_count": 557,
     "metadata": {},
     "output_type": "execute_result"
    }
   ],
   "source": [
    "df"
   ]
  },
  {
   "cell_type": "code",
   "execution_count": 558,
   "id": "52fc62b4",
   "metadata": {},
   "outputs": [],
   "source": [
    "age = annee - df.birth\n",
    "df = df.assign(age = age)"
   ]
  },
  {
   "cell_type": "markdown",
   "id": "fa1828f2",
   "metadata": {},
   "source": [
    "Ensuite on calcule la médianne, la moyenne, la variance et l'écart-type des prix et des âges."
   ]
  },
  {
   "cell_type": "code",
   "execution_count": 559,
   "id": "deb6a7aa",
   "metadata": {},
   "outputs": [
    {
     "name": "stdout",
     "output_type": "stream",
     "text": [
      "On a un âge median de 41.0\n",
      "Un âge moyen de 43.176432154386674\n",
      "Une variance de 182.90975309840533\n",
      "Et enfin un écart-type de 13.524413225659934\n"
     ]
    }
   ],
   "source": [
    "age_median = np.median(df.age)\n",
    "age_mean = df.age.mean()\n",
    "age_var = np.var(df.age)\n",
    "age_sd = np.std(df.age)\n",
    "print(\"On a un âge median de\",age_median)\n",
    "print(\"Un âge moyen de\", age_moyenne)\n",
    "print(\"Une variance de\", age_var)\n",
    "print(\"Et enfin un écart-type de\", age_sd)"
   ]
  },
  {
   "cell_type": "code",
   "execution_count": 560,
   "id": "068edaab",
   "metadata": {},
   "outputs": [
    {
     "name": "stdout",
     "output_type": "stream",
     "text": [
      "On a un prix median de 13.9\n",
      "Un prix moyen de 17.215188513728638\n",
      "Une variance de 318.81598278374\n",
      "Et enfin un écart-type de 17.855418863295814\n"
     ]
    }
   ],
   "source": [
    "price_median = np.median(df.price)\n",
    "price_mean = df.price.mean()\n",
    "price_var = np.var(df.price)\n",
    "price_sd = np.std(df.price)\n",
    "print(\"On a un prix median de\", price_median)\n",
    "print(\"Un prix moyen de\", price_mean)\n",
    "print(\"Une variance de\", price_var)\n",
    "print(\"Et enfin un écart-type de\", price_sd)"
   ]
  },
  {
   "cell_type": "markdown",
   "id": "09918e38",
   "metadata": {},
   "source": [
    "### 2.2. Analyse de concentration"
   ]
  },
  {
   "cell_type": "markdown",
   "id": "22d2c73e",
   "metadata": {},
   "source": [
    "#### 2.2.1 Calcule de l'indice de Gini :"
   ]
  },
  {
   "cell_type": "code",
   "execution_count": 561,
   "id": "8db8c7f0",
   "metadata": {},
   "outputs": [],
   "source": [
    "def gini(liste):\n",
    "    count = len(liste)\n",
    "    coefficient = 2 / count\n",
    "    indexes = range(1, count + 1)\n",
    "    weighted_sum = (indexes * liste).sum()\n",
    "    total = liste.sum()\n",
    "    constant = (count + 1) / count\n",
    "    return coefficient * weighted_sum / total - constant"
   ]
  },
  {
   "cell_type": "code",
   "execution_count": 562,
   "id": "12760a72",
   "metadata": {},
   "outputs": [],
   "source": [
    "def lorenz_curve(X):\n",
    "    X_lorenz = X.cumsum() / X.sum()\n",
    "    X_lorenz = np.insert(X_lorenz, 0, 0) \n",
    "    X_lorenz[0], X_lorenz[-1]\n",
    "    fig, ax = plt.subplots(figsize=[6,6])\n",
    "    ## scatter plot of Lorenz curve\n",
    "    ax.scatter(np.arange(X_lorenz.size)/(X_lorenz.size-1), X_lorenz, \n",
    "               marker='.', color='darkgreen', s=100)\n",
    "    ## line plot of equality\n",
    "    ax.plot([0,1], [0,1], color='k')\n"
   ]
  },
  {
   "cell_type": "code",
   "execution_count": 563,
   "id": "f6fb096b",
   "metadata": {},
   "outputs": [
    {
     "name": "stdout",
     "output_type": "stream",
     "text": [
      "0.07794055517507315\n"
     ]
    },
    {
     "data": {
      "image/png": "[encoded data removed]",
      "text/plain": [
       "<Figure size 432x432 with 1 Axes>"
      ]
     },
     "metadata": {
      "needs_background": "light"
     },
     "output_type": "display_data"
    }
   ],
   "source": [
    "print(gini(df.price))\n",
    "price = np.array(df.price)\n",
    "lorenz_curve(price)"
   ]
  },
  {
   "cell_type": "code",
   "execution_count": 564,
   "id": "6a01e154",
   "metadata": {},
   "outputs": [
    {
     "name": "stdout",
     "output_type": "stream",
     "text": [
      "0.007825501222353815\n"
     ]
    },
    {
     "data": {
      "image/png": "[encoded data removed]",
      "text/plain": [
       "<Figure size 432x432 with 1 Axes>"
      ]
     },
     "metadata": {
      "needs_background": "light"
     },
     "output_type": "display_data"
    }
   ],
   "source": [
    "print(gini(df.age))\n",
    "age = np.array(df.age)\n",
    "lorenz_curve(age)"
   ]
  },
  {
   "cell_type": "markdown",
   "id": "c609464b",
   "metadata": {},
   "source": [
    "#### 2.2.2. Histogramme"
   ]
  },
  {
   "cell_type": "code",
   "execution_count": 565,
   "id": "e93c27f5",
   "metadata": {},
   "outputs": [
    {
     "data": {
      "text/plain": [
       "<AxesSubplot:xlabel='age', ylabel='Count'>"
      ]
     },
     "execution_count": 565,
     "metadata": {},
     "output_type": "execute_result"
    },
    {
     "data": {
      "image/png": "[encoded data removed]",
      "text/plain": [
       "<Figure size 432x288 with 1 Axes>"
      ]
     },
     "metadata": {
      "needs_background": "light"
     },
     "output_type": "display_data"
    }
   ],
   "source": [
    "sns.histplot(df[['sex',\"age\"]], x = df.age, bins = 10, kde = True, hue = \"sex\", multiple = \"stack\")"
   ]
  },
  {
   "cell_type": "code",
   "execution_count": 566,
   "id": "a44e6b2f",
   "metadata": {},
   "outputs": [],
   "source": [
    "df = df.assign(categ_age = pd.cut(df.age,[16,20,30,40,50,65,92]))"
   ]
  },
  {
   "cell_type": "code",
   "execution_count": 567,
   "id": "ebf9fa68",
   "metadata": {},
   "outputs": [
    {
     "data": {
      "text/plain": [
       "<AxesSubplot:xlabel='price', ylabel='Count'>"
      ]
     },
     "execution_count": 567,
     "metadata": {},
     "output_type": "execute_result"
    },
    {
     "data": {
      "image/png": "[encoded data removed]",
      "text/plain": [
       "<Figure size 432x288 with 1 Axes>"
      ]
     },
     "metadata": {
      "needs_background": "light"
     },
     "output_type": "display_data"
    }
   ],
   "source": [
    "sns.histplot(df[['categ_age',\"price\"]], x = df.price[df.price <= 30], bins = 15, kde = True, hue = df.categ_age, multiple = \"stack\")"
   ]
  },
  {
   "cell_type": "code",
   "execution_count": 568,
   "id": "4520b448",
   "metadata": {},
   "outputs": [
    {
     "data": {
      "text/plain": [
       "(40, 50]    31.696727\n",
       "(30, 40]    29.268546\n",
       "(50, 65]    17.830318\n",
       "(20, 30]     9.984170\n",
       "(65, 92]     7.126247\n",
       "(16, 20]     4.093991\n",
       "Name: categ_age, dtype: float64"
      ]
     },
     "execution_count": 568,
     "metadata": {},
     "output_type": "execute_result"
    }
   ],
   "source": [
    "df.categ_age.value_counts() / len(df.categ_age) * 100"
   ]
  },
  {
   "cell_type": "code",
   "execution_count": 569,
   "id": "97cbe056",
   "metadata": {},
   "outputs": [
    {
     "data": {
      "text/plain": [
       "<AxesSubplot:xlabel='price', ylabel='Count'>"
      ]
     },
     "execution_count": 569,
     "metadata": {},
     "output_type": "execute_result"
    },
    {
     "data": {
      "image/png": "[encoded data removed]",
      "text/plain": [
       "<Figure size 432x288 with 1 Axes>"
      ]
     },
     "metadata": {
      "needs_background": "light"
     },
     "output_type": "display_data"
    }
   ],
   "source": [
    "sns.histplot(df[['categ_age',\"price\"]], x = df.price[(df.price > 30) & (df.price <= 70)], bins = 15, hue = df.categ_age, multiple = \"stack\")"
   ]
  },
  {
   "cell_type": "code",
   "execution_count": 570,
   "id": "3d0a34db",
   "metadata": {},
   "outputs": [
    {
     "data": {
      "text/plain": [
       "<AxesSubplot:xlabel='price', ylabel='Count'>"
      ]
     },
     "execution_count": 570,
     "metadata": {},
     "output_type": "execute_result"
    },
    {
     "data": {
      "image/png": "[encoded data removed]",
      "text/plain": [
       "<Figure size 432x288 with 1 Axes>"
      ]
     },
     "metadata": {
      "needs_background": "light"
     },
     "output_type": "display_data"
    }
   ],
   "source": [
    "sns.histplot(df[['categ_age',\"price\"]], x = df.price[df.price > 70], bins = 15, hue = df.categ_age, multiple = \"stack\")"
   ]
  },
  {
   "cell_type": "code",
   "execution_count": 571,
   "id": "7fa73e63",
   "metadata": {},
   "outputs": [
    {
     "data": {
      "text/plain": [
       "<AxesSubplot:xlabel='price', ylabel='categ_age'>"
      ]
     },
     "execution_count": 571,
     "metadata": {},
     "output_type": "execute_result"
    },
    {
     "data": {
      "image/png": "[encoded data removed]",
      "text/plain": [
       "<Figure size 432x288 with 1 Axes>"
      ]
     },
     "metadata": {
      "needs_background": "light"
     },
     "output_type": "display_data"
    }
   ],
   "source": [
    "sns.boxplot(data = df, x = df.price, y = df.categ_age)"
   ]
  },
  {
   "cell_type": "markdown",
   "id": "34a3996a",
   "metadata": {},
   "source": [
    "On voit donc qu'il y a une plus forte corrélation sur les livres qui coûtent le plus cher pour les clients de moins de 30 ans que pour les plus de 30 ans."
   ]
  },
  {
   "cell_type": "markdown",
   "id": "133f285c",
   "metadata": {},
   "source": [
    "#### 2.2.3. Représentation de série temporelle"
   ]
  },
  {
   "cell_type": "code",
   "execution_count": 617,
   "id": "24612c05",
   "metadata": {},
   "outputs": [
    {
     "data": {
      "text/html": [
       "<div>\n",
       "<style scoped>\n",
       "    .dataframe tbody tr th:only-of-type {\n",
       "        vertical-align: middle;\n",
       "    }\n",
       "\n",
       "    .dataframe tbody tr th {\n",
       "        vertical-align: top;\n",
       "    }\n",
       "\n",
       "    .dataframe thead th {\n",
       "        text-align: right;\n",
       "    }\n",
       "</style>\n",
       "<table border=\"1\" class=\"dataframe\">\n",
       "  <thead>\n",
       "    <tr style=\"text-align: right;\">\n",
       "      <th></th>\n",
       "      <th>year</th>\n",
       "      <th>price</th>\n",
       "    </tr>\n",
       "  </thead>\n",
       "  <tbody>\n",
       "    <tr>\n",
       "      <th>0</th>\n",
       "      <td>2021</td>\n",
       "      <td>4740881.58</td>\n",
       "    </tr>\n",
       "    <tr>\n",
       "      <th>1</th>\n",
       "      <td>2022</td>\n",
       "      <td>1055696.19</td>\n",
       "    </tr>\n",
       "  </tbody>\n",
       "</table>\n",
       "</div>"
      ],
      "text/plain": [
       "   year       price\n",
       "0  2021  4740881.58\n",
       "1  2022  1055696.19"
      ]
     },
     "execution_count": 617,
     "metadata": {},
     "output_type": "execute_result"
    }
   ],
   "source": [
    "year_price = pd.DataFrame(df[[\"price\", \"year\"]].groupby(['year']).sum())\n",
    "year_price.reset_index(inplace = True)\n",
    "year_price"
   ]
  },
  {
   "cell_type": "code",
   "execution_count": 618,
   "id": "fa9b0937",
   "metadata": {},
   "outputs": [
    {
     "data": {
      "text/plain": [
       "([<matplotlib.patches.Wedge at 0x12965ad7b80>,\n",
       "  <matplotlib.patches.Wedge at 0x12965ae3190>],\n",
       " [Text(-1.092953663767998, 0.7038837182774655, '2021'),\n",
       "  Text(0.9248068905016977, -0.595594002052221, '2022')])"
      ]
     },
     "execution_count": 618,
     "metadata": {},
     "output_type": "execute_result"
    },
    {
     "data": {
      "image/png": "[encoded data removed]",
      "text/plain": [
       "<Figure size 576x576 with 1 Axes>"
      ]
     },
     "metadata": {},
     "output_type": "display_data"
    }
   ],
   "source": [
    "plt.figure(figsize = (8, 8))\n",
    "plt.pie(test.price, labels = test.year,colors=[\"yellow\",\"black\"], explode = [0.2, 0], shadow=True)"
   ]
  },
  {
   "cell_type": "code",
   "execution_count": 619,
   "id": "de2c41fb",
   "metadata": {},
   "outputs": [
    {
     "data": {
      "text/html": [
       "<div>\n",
       "<style scoped>\n",
       "    .dataframe tbody tr th:only-of-type {\n",
       "        vertical-align: middle;\n",
       "    }\n",
       "\n",
       "    .dataframe tbody tr th {\n",
       "        vertical-align: top;\n",
       "    }\n",
       "\n",
       "    .dataframe thead th {\n",
       "        text-align: right;\n",
       "    }\n",
       "</style>\n",
       "<table border=\"1\" class=\"dataframe\">\n",
       "  <thead>\n",
       "    <tr style=\"text-align: right;\">\n",
       "      <th></th>\n",
       "      <th>year</th>\n",
       "      <th>month</th>\n",
       "      <th>price</th>\n",
       "    </tr>\n",
       "  </thead>\n",
       "  <tbody>\n",
       "    <tr>\n",
       "      <th>0</th>\n",
       "      <td>2021</td>\n",
       "      <td>3</td>\n",
       "      <td>479312.03</td>\n",
       "    </tr>\n",
       "    <tr>\n",
       "      <th>1</th>\n",
       "      <td>2021</td>\n",
       "      <td>4</td>\n",
       "      <td>472980.72</td>\n",
       "    </tr>\n",
       "    <tr>\n",
       "      <th>2</th>\n",
       "      <td>2021</td>\n",
       "      <td>5</td>\n",
       "      <td>489367.95</td>\n",
       "    </tr>\n",
       "    <tr>\n",
       "      <th>3</th>\n",
       "      <td>2021</td>\n",
       "      <td>6</td>\n",
       "      <td>481257.94</td>\n",
       "    </tr>\n",
       "    <tr>\n",
       "      <th>4</th>\n",
       "      <td>2021</td>\n",
       "      <td>7</td>\n",
       "      <td>480898.66</td>\n",
       "    </tr>\n",
       "    <tr>\n",
       "      <th>5</th>\n",
       "      <td>2021</td>\n",
       "      <td>8</td>\n",
       "      <td>479305.19</td>\n",
       "    </tr>\n",
       "    <tr>\n",
       "      <th>6</th>\n",
       "      <td>2021</td>\n",
       "      <td>9</td>\n",
       "      <td>502771.28</td>\n",
       "    </tr>\n",
       "    <tr>\n",
       "      <th>7</th>\n",
       "      <td>2021</td>\n",
       "      <td>10</td>\n",
       "      <td>319159.96</td>\n",
       "    </tr>\n",
       "    <tr>\n",
       "      <th>8</th>\n",
       "      <td>2021</td>\n",
       "      <td>11</td>\n",
       "      <td>512890.17</td>\n",
       "    </tr>\n",
       "    <tr>\n",
       "      <th>9</th>\n",
       "      <td>2021</td>\n",
       "      <td>12</td>\n",
       "      <td>522937.68</td>\n",
       "    </tr>\n",
       "    <tr>\n",
       "      <th>10</th>\n",
       "      <td>2022</td>\n",
       "      <td>1</td>\n",
       "      <td>522955.31</td>\n",
       "    </tr>\n",
       "    <tr>\n",
       "      <th>11</th>\n",
       "      <td>2022</td>\n",
       "      <td>2</td>\n",
       "      <td>532740.88</td>\n",
       "    </tr>\n",
       "  </tbody>\n",
       "</table>\n",
       "</div>"
      ],
      "text/plain": [
       "    year  month      price\n",
       "0   2021      3  479312.03\n",
       "1   2021      4  472980.72\n",
       "2   2021      5  489367.95\n",
       "3   2021      6  481257.94\n",
       "4   2021      7  480898.66\n",
       "5   2021      8  479305.19\n",
       "6   2021      9  502771.28\n",
       "7   2021     10  319159.96\n",
       "8   2021     11  512890.17\n",
       "9   2021     12  522937.68\n",
       "10  2022      1  522955.31\n",
       "11  2022      2  532740.88"
      ]
     },
     "execution_count": 619,
     "metadata": {},
     "output_type": "execute_result"
    }
   ],
   "source": [
    "date_price = pd.DataFrame(df[[\"price\", \"year\", \"month\"]].groupby(['year', \"month\"]).sum())\n",
    "date_price.reset_index(inplace = True)\n",
    "date_price"
   ]
  },
  {
   "cell_type": "code",
   "execution_count": 621,
   "id": "d13b1c62",
   "metadata": {},
   "outputs": [],
   "source": [
    "year_month = [\"Mar 2021\", \"Avr 2021\", \"May 2021\", \"Jun 2021\", \"Jul 2021\", \"Aug 2021\", \"Sep 2021\", \"Oct 2021\", \"Nov 2021\", \"Dec 2021\", \"Jan 2022\", \"Feb 202\"]\n",
    "date_price = date_price.assign(year_month = year_month)"
   ]
  },
  {
   "cell_type": "code",
   "execution_count": 627,
   "id": "79546186",
   "metadata": {},
   "outputs": [
    {
     "data": {
      "image/png": "[encoded data removed]",
      "text/plain": [
       "<Figure size 640x480 with 1 Axes>"
      ]
     },
     "metadata": {},
     "output_type": "display_data"
    },
    {
     "data": {
      "text/plain": [
       "<ggplot: (79832552048)>"
      ]
     },
     "execution_count": 627,
     "metadata": {},
     "output_type": "execute_result"
    }
   ],
   "source": [
    "(\n",
    "    p9.ggplot(data = date_price, mapping = p9.aes(x = \"year_month\", y = \"price\", group=1))\n",
    "    + p9.theme(axis_text_x = p9.element_text(angle=45, hjust=1))\n",
    "    + p9.geom_point()\n",
    "    + p9.geom_line(arrow = p9.arrow(), color = \"red\")\n",
    "    + p9.xlim(\"Mar 2021\", \"Avr 2021\", \"May 2021\", \"Jun 2021\", \"Jul 2021\", \"Aug 2021\", \"Sep 2021\", \"Oct 2021\", \"Nov 2021\", \"Dec 2021\", \"Jan 2022\", \"Feb 202\")\n",
    "    + p9.ggtitle(\"Chiffre d'affaire par mois\")\n",
    "    + p9.labs(x='date', y=\"chiffre d'affaire\")\n",
    ")"
   ]
  },
  {
   "cell_type": "markdown",
   "id": "0e87f41f",
   "metadata": {},
   "source": [
    "On voit un chiffre d'affaire globalement en hausse au fur et à mesur des mois, avec un pic négatif en octobre 2021 ou nous perdons 15 000 euros de bénéfice par rapport au mois de Septembre 2021."
   ]
  },
  {
   "cell_type": "markdown",
   "id": "588b3511",
   "metadata": {},
   "source": [
    "#### 2.2.4. Analyse bivarié"
   ]
  },
  {
   "cell_type": "code",
   "execution_count": 634,
   "id": "9c67d5cb",
   "metadata": {},
   "outputs": [
    {
     "data": {
      "text/html": [
       "<div>\n",
       "<style scoped>\n",
       "    .dataframe tbody tr th:only-of-type {\n",
       "        vertical-align: middle;\n",
       "    }\n",
       "\n",
       "    .dataframe tbody tr th {\n",
       "        vertical-align: top;\n",
       "    }\n",
       "\n",
       "    .dataframe thead th {\n",
       "        text-align: right;\n",
       "    }\n",
       "</style>\n",
       "<table border=\"1\" class=\"dataframe\">\n",
       "  <thead>\n",
       "    <tr style=\"text-align: right;\">\n",
       "      <th></th>\n",
       "      <th>feature_1</th>\n",
       "      <th>feature_2</th>\n",
       "      <th>correlation</th>\n",
       "    </tr>\n",
       "  </thead>\n",
       "  <tbody>\n",
       "    <tr>\n",
       "      <th>7</th>\n",
       "      <td>categ</td>\n",
       "      <td>price</td>\n",
       "      <td>0.673359</td>\n",
       "    </tr>\n",
       "    <tr>\n",
       "      <th>1</th>\n",
       "      <td>price</td>\n",
       "      <td>categ</td>\n",
       "      <td>0.673359</td>\n",
       "    </tr>\n",
       "    <tr>\n",
       "      <th>2</th>\n",
       "      <td>price</td>\n",
       "      <td>birth</td>\n",
       "      <td>0.211529</td>\n",
       "    </tr>\n",
       "    <tr>\n",
       "      <th>14</th>\n",
       "      <td>birth</td>\n",
       "      <td>price</td>\n",
       "      <td>0.211529</td>\n",
       "    </tr>\n",
       "    <tr>\n",
       "      <th>9</th>\n",
       "      <td>categ</td>\n",
       "      <td>birth</td>\n",
       "      <td>0.098612</td>\n",
       "    </tr>\n",
       "  </tbody>\n",
       "</table>\n",
       "</div>"
      ],
      "text/plain": [
       "   feature_1 feature_2  correlation\n",
       "7      categ     price     0.673359\n",
       "1      price     categ     0.673359\n",
       "2      price     birth     0.211529\n",
       "14     birth     price     0.211529\n",
       "9      categ     birth     0.098612"
      ]
     },
     "execution_count": 634,
     "metadata": {},
     "output_type": "execute_result"
    }
   ],
   "source": [
    "corr = df.corr()\n",
    "corr_df = corr.unstack().reset_index()\n",
    "corr_df.columns = [\"feature_1\", \"feature_2\", \"correlation\"]\n",
    "corr_df.sort_values(by = \"correlation\", ascending = False, inplace = True)\n",
    "corr_df = corr_df[corr_df['feature_1'] != corr_df['feature_2']]\n",
    "corr_df.head()"
   ]
  },
  {
   "cell_type": "code",
   "execution_count": 655,
   "id": "b29dc8fc",
   "metadata": {},
   "outputs": [],
   "source": [
    "distrib = df.categ.value_counts() * 100 / len(df)"
   ]
  },
  {
   "cell_type": "code",
   "execution_count": 656,
   "id": "4f0ce839",
   "metadata": {},
   "outputs": [
    {
     "data": {
      "text/html": [
       "<div>\n",
       "<style scoped>\n",
       "    .dataframe tbody tr th:only-of-type {\n",
       "        vertical-align: middle;\n",
       "    }\n",
       "\n",
       "    .dataframe tbody tr th {\n",
       "        vertical-align: top;\n",
       "    }\n",
       "\n",
       "    .dataframe thead th {\n",
       "        text-align: right;\n",
       "    }\n",
       "</style>\n",
       "<table border=\"1\" class=\"dataframe\">\n",
       "  <thead>\n",
       "    <tr style=\"text-align: right;\">\n",
       "      <th></th>\n",
       "      <th>categ</th>\n",
       "      <th>price</th>\n",
       "    </tr>\n",
       "  </thead>\n",
       "  <tbody>\n",
       "    <tr>\n",
       "      <th>0</th>\n",
       "      <td>0</td>\n",
       "      <td>2229722.65</td>\n",
       "    </tr>\n",
       "    <tr>\n",
       "      <th>1</th>\n",
       "      <td>1</td>\n",
       "      <td>2247384.41</td>\n",
       "    </tr>\n",
       "    <tr>\n",
       "      <th>2</th>\n",
       "      <td>2</td>\n",
       "      <td>1319470.71</td>\n",
       "    </tr>\n",
       "  </tbody>\n",
       "</table>\n",
       "</div>"
      ],
      "text/plain": [
       "   categ       price\n",
       "0      0  2229722.65\n",
       "1      1  2247384.41\n",
       "2      2  1319470.71"
      ]
     },
     "execution_count": 656,
     "metadata": {},
     "output_type": "execute_result"
    }
   ],
   "source": [
    "price_categ = df[[\"categ\",\"price\"]].groupby([\"categ\"]).sum()\n",
    "price_categ.reset_index(inplace = True)\n",
    "price_categ"
   ]
  },
  {
   "cell_type": "code",
   "execution_count": 657,
   "id": "37d4e450",
   "metadata": {},
   "outputs": [
    {
     "data": {
      "text/html": [
       "<div>\n",
       "<style scoped>\n",
       "    .dataframe tbody tr th:only-of-type {\n",
       "        vertical-align: middle;\n",
       "    }\n",
       "\n",
       "    .dataframe tbody tr th {\n",
       "        vertical-align: top;\n",
       "    }\n",
       "\n",
       "    .dataframe thead th {\n",
       "        text-align: right;\n",
       "    }\n",
       "</style>\n",
       "<table border=\"1\" class=\"dataframe\">\n",
       "  <thead>\n",
       "    <tr style=\"text-align: right;\">\n",
       "      <th></th>\n",
       "      <th>categ</th>\n",
       "      <th>price</th>\n",
       "      <th>distrib</th>\n",
       "      <th>ca_percent</th>\n",
       "    </tr>\n",
       "  </thead>\n",
       "  <tbody>\n",
       "    <tr>\n",
       "      <th>0</th>\n",
       "      <td>0</td>\n",
       "      <td>2229722.65</td>\n",
       "      <td>62.197183</td>\n",
       "      <td>38.466191</td>\n",
       "    </tr>\n",
       "    <tr>\n",
       "      <th>1</th>\n",
       "      <td>1</td>\n",
       "      <td>2247384.41</td>\n",
       "      <td>32.590069</td>\n",
       "      <td>38.770883</td>\n",
       "    </tr>\n",
       "    <tr>\n",
       "      <th>2</th>\n",
       "      <td>2</td>\n",
       "      <td>1319470.71</td>\n",
       "      <td>5.212748</td>\n",
       "      <td>22.762926</td>\n",
       "    </tr>\n",
       "  </tbody>\n",
       "</table>\n",
       "</div>"
      ],
      "text/plain": [
       "   categ       price    distrib  ca_percent\n",
       "0      0  2229722.65  62.197183   38.466191\n",
       "1      1  2247384.41  32.590069   38.770883\n",
       "2      2  1319470.71   5.212748   22.762926"
      ]
     },
     "execution_count": 657,
     "metadata": {},
     "output_type": "execute_result"
    }
   ],
   "source": [
    "distrib_ca = price_categ.price * 100 / sum(price_categ.price) \n",
    "price_categ.assign(distrib = distrib, ca_percent = distrib_ca)"
   ]
  },
  {
   "cell_type": "markdown",
   "id": "8379f2f1",
   "metadata": {},
   "source": [
    "On peut se rendre que les catégories des livres ont une forte corrélation avec le prix des livres. Partant donc du principe que 0 = livre pas cher, 1 = livre normal et 2 = livre cher. "
   ]
  },
  {
   "cell_type": "markdown",
   "id": "94fb6d9b",
   "metadata": {},
   "source": [
    "On se rend compte logiquement par la suite que 62.2% des livres vendues sont des livres de catégorie 0, et que sur le chiffres d'affaire total (de Mars 2021 à Février 2022), il représente 38.4%. La catéorie 1 représente 35.6% des livres vendues et 38.8% du chiffre d'affaire. Et enfin les livres de catégorie ne représente que 5.2% des livres vendues et pourtant compte comme 22.8% du chiffre d'affaire."
   ]
  },
  {
   "cell_type": "markdown",
   "id": "f9728b30",
   "metadata": {},
   "source": [
    "On va pouvoir continuer d'affirmer notre hypothèse sur la corrélation entre categ et price puisque les livres de catégories 2 représente presque 1/4 du chiffre d'affaire pour seulement 5% des ventes."
   ]
  },
  {
   "cell_type": "code",
   "execution_count": 714,
   "id": "f22cf6a9",
   "metadata": {},
   "outputs": [
    {
     "data": {
      "text/html": [
       "<div>\n",
       "<style scoped>\n",
       "    .dataframe tbody tr th:only-of-type {\n",
       "        vertical-align: middle;\n",
       "    }\n",
       "\n",
       "    .dataframe tbody tr th {\n",
       "        vertical-align: top;\n",
       "    }\n",
       "\n",
       "    .dataframe thead th {\n",
       "        text-align: right;\n",
       "    }\n",
       "</style>\n",
       "<table border=\"1\" class=\"dataframe\">\n",
       "  <thead>\n",
       "    <tr style=\"text-align: right;\">\n",
       "      <th></th>\n",
       "      <th>categ_age</th>\n",
       "      <th>categ</th>\n",
       "      <th>price</th>\n",
       "      <th>distrib</th>\n",
       "      <th>ca_percent</th>\n",
       "    </tr>\n",
       "  </thead>\n",
       "  <tbody>\n",
       "    <tr>\n",
       "      <th>0</th>\n",
       "      <td>(16, 20]</td>\n",
       "      <td>0</td>\n",
       "      <td>33373.34</td>\n",
       "      <td>0.924823</td>\n",
       "      <td>0.575742</td>\n",
       "    </tr>\n",
       "    <tr>\n",
       "      <th>1</th>\n",
       "      <td>(16, 20]</td>\n",
       "      <td>1</td>\n",
       "      <td>105847.90</td>\n",
       "      <td>1.525929</td>\n",
       "      <td>1.826041</td>\n",
       "    </tr>\n",
       "    <tr>\n",
       "      <th>2</th>\n",
       "      <td>(16, 20]</td>\n",
       "      <td>2</td>\n",
       "      <td>419419.63</td>\n",
       "      <td>1.643239</td>\n",
       "      <td>7.235642</td>\n",
       "    </tr>\n",
       "    <tr>\n",
       "      <th>3</th>\n",
       "      <td>(20, 30]</td>\n",
       "      <td>0</td>\n",
       "      <td>125978.16</td>\n",
       "      <td>3.512784</td>\n",
       "      <td>2.173320</td>\n",
       "    </tr>\n",
       "    <tr>\n",
       "      <th>4</th>\n",
       "      <td>(20, 30]</td>\n",
       "      <td>1</td>\n",
       "      <td>228353.32</td>\n",
       "      <td>3.312613</td>\n",
       "      <td>3.939451</td>\n",
       "    </tr>\n",
       "    <tr>\n",
       "      <th>5</th>\n",
       "      <td>(20, 30]</td>\n",
       "      <td>2</td>\n",
       "      <td>796439.38</td>\n",
       "      <td>3.158773</td>\n",
       "      <td>13.739820</td>\n",
       "    </tr>\n",
       "    <tr>\n",
       "      <th>6</th>\n",
       "      <td>(30, 40]</td>\n",
       "      <td>0</td>\n",
       "      <td>806743.91</td>\n",
       "      <td>22.474630</td>\n",
       "      <td>13.917590</td>\n",
       "    </tr>\n",
       "    <tr>\n",
       "      <th>7</th>\n",
       "      <td>(30, 40]</td>\n",
       "      <td>1</td>\n",
       "      <td>460919.62</td>\n",
       "      <td>6.705117</td>\n",
       "      <td>7.951582</td>\n",
       "    </tr>\n",
       "    <tr>\n",
       "      <th>8</th>\n",
       "      <td>(30, 40]</td>\n",
       "      <td>2</td>\n",
       "      <td>22678.17</td>\n",
       "      <td>0.088800</td>\n",
       "      <td>0.391234</td>\n",
       "    </tr>\n",
       "    <tr>\n",
       "      <th>9</th>\n",
       "      <td>(40, 50]</td>\n",
       "      <td>0</td>\n",
       "      <td>859700.24</td>\n",
       "      <td>24.032930</td>\n",
       "      <td>14.831169</td>\n",
       "    </tr>\n",
       "    <tr>\n",
       "      <th>10</th>\n",
       "      <td>(40, 50]</td>\n",
       "      <td>1</td>\n",
       "      <td>522896.33</td>\n",
       "      <td>7.580640</td>\n",
       "      <td>9.020777</td>\n",
       "    </tr>\n",
       "    <tr>\n",
       "      <th>11</th>\n",
       "      <td>(40, 50]</td>\n",
       "      <td>2</td>\n",
       "      <td>21897.65</td>\n",
       "      <td>0.083157</td>\n",
       "      <td>0.377769</td>\n",
       "    </tr>\n",
       "    <tr>\n",
       "      <th>12</th>\n",
       "      <td>(50, 65]</td>\n",
       "      <td>0</td>\n",
       "      <td>290283.49</td>\n",
       "      <td>8.095322</td>\n",
       "      <td>5.007843</td>\n",
       "    </tr>\n",
       "    <tr>\n",
       "      <th>13</th>\n",
       "      <td>(50, 65]</td>\n",
       "      <td>1</td>\n",
       "      <td>659728.45</td>\n",
       "      <td>9.554725</td>\n",
       "      <td>11.381344</td>\n",
       "    </tr>\n",
       "    <tr>\n",
       "      <th>14</th>\n",
       "      <td>(50, 65]</td>\n",
       "      <td>2</td>\n",
       "      <td>45366.10</td>\n",
       "      <td>0.180272</td>\n",
       "      <td>0.782636</td>\n",
       "    </tr>\n",
       "    <tr>\n",
       "      <th>15</th>\n",
       "      <td>(65, 92]</td>\n",
       "      <td>0</td>\n",
       "      <td>113643.51</td>\n",
       "      <td>3.156694</td>\n",
       "      <td>1.960528</td>\n",
       "    </tr>\n",
       "    <tr>\n",
       "      <th>16</th>\n",
       "      <td>(65, 92]</td>\n",
       "      <td>1</td>\n",
       "      <td>269638.79</td>\n",
       "      <td>3.911046</td>\n",
       "      <td>4.651689</td>\n",
       "    </tr>\n",
       "    <tr>\n",
       "      <th>17</th>\n",
       "      <td>(65, 92]</td>\n",
       "      <td>2</td>\n",
       "      <td>13669.78</td>\n",
       "      <td>0.058507</td>\n",
       "      <td>0.235825</td>\n",
       "    </tr>\n",
       "  </tbody>\n",
       "</table>\n",
       "</div>"
      ],
      "text/plain": [
       "   categ_age  categ      price    distrib  ca_percent\n",
       "0   (16, 20]      0   33373.34   0.924823    0.575742\n",
       "1   (16, 20]      1  105847.90   1.525929    1.826041\n",
       "2   (16, 20]      2  419419.63   1.643239    7.235642\n",
       "3   (20, 30]      0  125978.16   3.512784    2.173320\n",
       "4   (20, 30]      1  228353.32   3.312613    3.939451\n",
       "5   (20, 30]      2  796439.38   3.158773   13.739820\n",
       "6   (30, 40]      0  806743.91  22.474630   13.917590\n",
       "7   (30, 40]      1  460919.62   6.705117    7.951582\n",
       "8   (30, 40]      2   22678.17   0.088800    0.391234\n",
       "9   (40, 50]      0  859700.24  24.032930   14.831169\n",
       "10  (40, 50]      1  522896.33   7.580640    9.020777\n",
       "11  (40, 50]      2   21897.65   0.083157    0.377769\n",
       "12  (50, 65]      0  290283.49   8.095322    5.007843\n",
       "13  (50, 65]      1  659728.45   9.554725   11.381344\n",
       "14  (50, 65]      2   45366.10   0.180272    0.782636\n",
       "15  (65, 92]      0  113643.51   3.156694    1.960528\n",
       "16  (65, 92]      1  269638.79   3.911046    4.651689\n",
       "17  (65, 92]      2   13669.78   0.058507    0.235825"
      ]
     },
     "execution_count": 714,
     "metadata": {},
     "output_type": "execute_result"
    }
   ],
   "source": [
    "data = df[[\"categ_age\",\"price\",\"categ\"]].groupby([\"categ_age\",\"categ\"]).sum()\n",
    "distrib = pd.DataFrame(df[[\"categ_age\", \"categ\"]].value_counts() *100 / len(df))\n",
    "distrib_ca = data.price * 100 / sum(data.price)\n",
    "data = data.assign(distrib=distrib, ca_percent = distrib_ca)\n",
    "data.reset_index(inplace=True)\n",
    "data"
   ]
  },
  {
   "cell_type": "markdown",
   "id": "bb08c188",
   "metadata": {},
   "source": [
    "Dans le même principe que précedemment on voit que les jeunes bien qu'ils soient peut (-30 ans) dépensent plus que qu'une personne de plus de + de 30 ans. "
   ]
  },
  {
   "cell_type": "markdown",
   "id": "698ab95a",
   "metadata": {},
   "source": [
    "Comme nous avons pu voir dans la partie 2.2.2., cela est dû aufait qu'ils sont les acheteurs des livres les plus chers et non pas qu'ils achètent uniquement les livres les plus chers. Car comme on peut le voir le nombre de livre acheté est semblable pour chaque catégorie. Cependant comme les livres de catégorie 2 coute cher ils vont donc automatiquement faire augmenter leurs dépenses. De plus on a vu que les livres de catégories 2 vendues représentes 5.2% des ventes hors, les - 30ans représentent du coup 92% des ventes de livres de catégories 2. "
   ]
  },
  {
   "cell_type": "markdown",
   "id": "45b8c31e",
   "metadata": {},
   "source": [
    "On peut donc conclure qu'il y a bien une corrélation entre prix et âge (-30 ans)."
   ]
  },
  {
   "cell_type": "code",
   "execution_count": null,
   "id": "c47aa45c",
   "metadata": {},
   "outputs": [],
   "source": []
  },
  {
   "cell_type": "code",
   "execution_count": null,
   "id": "cbcf365b",
   "metadata": {},
   "outputs": [],
   "source": []
  }
 ],
 "metadata": {
  "kernelspec": {
   "display_name": "Python 3 (ipykernel)",
   "language": "python",
   "name": "python3"
  },
  "language_info": {
   "codemirror_mode": {
    "name": "ipython",
    "version": 3
   },
   "file_extension": ".py",
   "mimetype": "text/x-python",
   "name": "python",
   "nbconvert_exporter": "python",
   "pygments_lexer": "ipython3",
   "version": "3.9.12"
  }
 },
 "nbformat": 4,
 "nbformat_minor": 5
}
